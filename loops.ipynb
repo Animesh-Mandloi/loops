{
 "cells": [
  {
   "cell_type": "code",
   "execution_count": null,
   "id": "e97b05ae-fe7c-4d82-9270-617b91c6611e",
   "metadata": {},
   "outputs": [],
   "source": [
    "#1. Print Numbers from 1 to 5 Using a While Loop\n",
    "\n",
    "number = 1\n",
    "while number <= 5:\n",
    "    print(number)\n",
    "    number += 1"
   ]
  },
  {
   "cell_type": "code",
   "execution_count": null,
   "id": "013d1c2b-73fc-49c9-9363-8ecae9cbeb7c",
   "metadata": {},
   "outputs": [],
   "source": [
    "#2. Calculate the Sum of Numbers from 1 to 10 Using a While Loop\n",
    "\n",
    "total = 0\n",
    "number = 1\n",
    "while number <= 10:\n",
    "    total += number\n",
    "    number += 1\n",
    "print(\"Sum of numbers from 1 to 10:\", total)"
   ]
  },
  {
   "cell_type": "code",
   "execution_count": null,
   "id": "2593cac9-595b-4982-8257-bf2629c0d353",
   "metadata": {},
   "outputs": [],
   "source": [
    "#3. Calculate the Factorial of a Number Using a For Loop\n",
    "\n",
    "n = 5  \n",
    "factorial = 1\n",
    "\n",
    "for i in range(1, n + 1):\n",
    "    factorial *= i\n",
    "\n",
    "print(f\"Factorial of {n} is: {factorial}\")"
   ]
  },
  {
   "cell_type": "code",
   "execution_count": null,
   "id": "0afb5a96-39df-45c4-80fc-a2c61f23340e",
   "metadata": {},
   "outputs": [],
   "source": [
    "#4. Count the Number of Vowels in a String Using a For Loop\n",
    "\n",
    "string = \"Hello, World!\"\n",
    "vowels = \"aeiou\"\n",
    "count = 0\n",
    "\n",
    "for char in string.lower():\n",
    "    if char in vowels:\n",
    "        count += 1\n",
    "\n",
    "print(f\"Number of vowels in '{string}' is: {count}\")"
   ]
  },
  {
   "cell_type": "code",
   "execution_count": null,
   "id": "69bce7dd-a9a5-4e77-9328-e0987aec7985",
   "metadata": {},
   "outputs": [],
   "source": [
    "#5. Print a Pattern Using Nested Loops\n",
    "\n",
    "n = 5  \n",
    "\n",
    "for i in range(1, n + 1):\n",
    "    for j in range(i):\n",
    "        print('*', end='')\n",
    "    print()  "
   ]
  },
  {
   "cell_type": "code",
   "execution_count": null,
   "id": "7f389755-8ba8-4d6c-8bc2-813e0cd5a8c1",
   "metadata": {},
   "outputs": [],
   "source": []
  }
 ],
 "metadata": {
  "kernelspec": {
   "display_name": "Python 3 (ipykernel)",
   "language": "python",
   "name": "python3"
  },
  "language_info": {
   "codemirror_mode": {
    "name": "ipython",
    "version": 3
   },
   "file_extension": ".py",
   "mimetype": "text/x-python",
   "name": "python",
   "nbconvert_exporter": "python",
   "pygments_lexer": "ipython3",
   "version": "3.12.2"
  }
 },
 "nbformat": 4,
 "nbformat_minor": 5
}
